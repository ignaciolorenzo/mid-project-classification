{
 "cells": [
  {
   "cell_type": "markdown",
   "id": "6f26a021",
   "metadata": {},
   "source": [
    "## Importing packages"
   ]
  },
  {
   "cell_type": "code",
   "execution_count": 1,
   "id": "2144ffa1",
   "metadata": {},
   "outputs": [
    {
     "name": "stdout",
     "output_type": "stream",
     "text": [
      "Requirement already satisfied: seaborn in /usr/local/Caskroom/miniconda/base/lib/python3.8/site-packages (0.11.2)\n",
      "Requirement already satisfied: numpy>=1.15 in /usr/local/Caskroom/miniconda/base/lib/python3.8/site-packages (from seaborn) (1.21.1)\n",
      "Requirement already satisfied: pandas>=0.23 in /usr/local/Caskroom/miniconda/base/lib/python3.8/site-packages (from seaborn) (1.3.1)\n",
      "Requirement already satisfied: scipy>=1.0 in /usr/local/Caskroom/miniconda/base/lib/python3.8/site-packages (from seaborn) (1.7.0)\n",
      "Requirement already satisfied: matplotlib>=2.2 in /usr/local/Caskroom/miniconda/base/lib/python3.8/site-packages (from seaborn) (3.4.3)\n",
      "Requirement already satisfied: pytz>=2017.3 in /usr/local/Caskroom/miniconda/base/lib/python3.8/site-packages (from pandas>=0.23->seaborn) (2021.1)\n",
      "Requirement already satisfied: python-dateutil>=2.7.3 in /usr/local/Caskroom/miniconda/base/lib/python3.8/site-packages (from pandas>=0.23->seaborn) (2.8.1)\n",
      "Requirement already satisfied: cycler>=0.10 in /usr/local/Caskroom/miniconda/base/lib/python3.8/site-packages (from matplotlib>=2.2->seaborn) (0.10.0)\n",
      "Requirement already satisfied: pyparsing>=2.2.1 in /usr/local/Caskroom/miniconda/base/lib/python3.8/site-packages (from matplotlib>=2.2->seaborn) (2.4.7)\n",
      "Requirement already satisfied: kiwisolver>=1.0.1 in /usr/local/Caskroom/miniconda/base/lib/python3.8/site-packages (from matplotlib>=2.2->seaborn) (1.3.2)\n",
      "Requirement already satisfied: pillow>=6.2.0 in /usr/local/Caskroom/miniconda/base/lib/python3.8/site-packages (from matplotlib>=2.2->seaborn) (8.3.1)\n",
      "Requirement already satisfied: six>=1.5 in /usr/local/Caskroom/miniconda/base/lib/python3.8/site-packages (from python-dateutil>=2.7.3->pandas>=0.23->seaborn) (1.15.0)\n",
      "Requirement already satisfied: scipy in /usr/local/Caskroom/miniconda/base/lib/python3.8/site-packages (1.7.0)\n",
      "Requirement already satisfied: numpy<1.23.0,>=1.16.5 in /usr/local/Caskroom/miniconda/base/lib/python3.8/site-packages (from scipy) (1.21.1)\n",
      "Requirement already satisfied: matplotlib in /usr/local/Caskroom/miniconda/base/lib/python3.8/site-packages (3.4.3)\n",
      "Requirement already satisfied: pyparsing>=2.2.1 in /usr/local/Caskroom/miniconda/base/lib/python3.8/site-packages (from matplotlib) (2.4.7)\n",
      "Requirement already satisfied: numpy>=1.16 in /usr/local/Caskroom/miniconda/base/lib/python3.8/site-packages (from matplotlib) (1.21.1)\n",
      "Requirement already satisfied: python-dateutil>=2.7 in /usr/local/Caskroom/miniconda/base/lib/python3.8/site-packages (from matplotlib) (2.8.1)\n",
      "Requirement already satisfied: cycler>=0.10 in /usr/local/Caskroom/miniconda/base/lib/python3.8/site-packages (from matplotlib) (0.10.0)\n",
      "Requirement already satisfied: kiwisolver>=1.0.1 in /usr/local/Caskroom/miniconda/base/lib/python3.8/site-packages (from matplotlib) (1.3.2)\n",
      "Requirement already satisfied: pillow>=6.2.0 in /usr/local/Caskroom/miniconda/base/lib/python3.8/site-packages (from matplotlib) (8.3.1)\n",
      "Requirement already satisfied: six>=1.5 in /usr/local/Caskroom/miniconda/base/lib/python3.8/site-packages (from python-dateutil>=2.7->matplotlib) (1.15.0)\n",
      "Requirement already satisfied: sklearn in /usr/local/Caskroom/miniconda/base/lib/python3.8/site-packages (0.0)\n",
      "Requirement already satisfied: scikit-learn in /usr/local/Caskroom/miniconda/base/lib/python3.8/site-packages (from sklearn) (0.24.2)\n",
      "Requirement already satisfied: numpy>=1.13.3 in /usr/local/Caskroom/miniconda/base/lib/python3.8/site-packages (from scikit-learn->sklearn) (1.21.1)\n",
      "Requirement already satisfied: scipy>=0.19.1 in /usr/local/Caskroom/miniconda/base/lib/python3.8/site-packages (from scikit-learn->sklearn) (1.7.0)\n",
      "Requirement already satisfied: threadpoolctl>=2.0.0 in /usr/local/Caskroom/miniconda/base/lib/python3.8/site-packages (from scikit-learn->sklearn) (2.2.0)\n",
      "Requirement already satisfied: joblib>=0.11 in /usr/local/Caskroom/miniconda/base/lib/python3.8/site-packages (from scikit-learn->sklearn) (1.0.1)\n",
      "\u001b[31mERROR: Could not find a version that satisfies the requirement warnings (from versions: none)\u001b[0m\n",
      "\u001b[31mERROR: No matching distribution found for warnings\u001b[0m\n",
      "Requirement already satisfied: statsmodels in /usr/local/Caskroom/miniconda/base/lib/python3.8/site-packages (0.12.2)\n",
      "Requirement already satisfied: numpy>=1.15 in /usr/local/Caskroom/miniconda/base/lib/python3.8/site-packages (from statsmodels) (1.21.1)\n",
      "Requirement already satisfied: scipy>=1.1 in /usr/local/Caskroom/miniconda/base/lib/python3.8/site-packages (from statsmodels) (1.7.0)\n",
      "Requirement already satisfied: pandas>=0.21 in /usr/local/Caskroom/miniconda/base/lib/python3.8/site-packages (from statsmodels) (1.3.1)\n",
      "Requirement already satisfied: patsy>=0.5 in /usr/local/Caskroom/miniconda/base/lib/python3.8/site-packages (from statsmodels) (0.5.1)\n",
      "Requirement already satisfied: python-dateutil>=2.7.3 in /usr/local/Caskroom/miniconda/base/lib/python3.8/site-packages (from pandas>=0.21->statsmodels) (2.8.1)\n",
      "Requirement already satisfied: pytz>=2017.3 in /usr/local/Caskroom/miniconda/base/lib/python3.8/site-packages (from pandas>=0.21->statsmodels) (2021.1)\n",
      "Requirement already satisfied: six in /usr/local/Caskroom/miniconda/base/lib/python3.8/site-packages (from patsy>=0.5->statsmodels) (1.15.0)\n",
      "Requirement already satisfied: patsy in /usr/local/Caskroom/miniconda/base/lib/python3.8/site-packages (0.5.1)\n",
      "Requirement already satisfied: six in /usr/local/Caskroom/miniconda/base/lib/python3.8/site-packages (from patsy) (1.15.0)\n",
      "Requirement already satisfied: numpy>=1.4 in /usr/local/Caskroom/miniconda/base/lib/python3.8/site-packages (from patsy) (1.21.1)\n"
     ]
    }
   ],
   "source": [
    "! pip3 install seaborn \n",
    "! pip3 install scipy\n",
    "! pip3 install matplotlib\n",
    "! pip3 install sklearn\n",
    "! pip3 install warnings\n",
    "! pip3 install statsmodels\n",
    "! pip3 install patsy\n"
   ]
  },
  {
   "cell_type": "code",
   "execution_count": 2,
   "id": "2bf8bc45",
   "metadata": {},
   "outputs": [
    {
     "ename": "ModuleNotFoundError",
     "evalue": "No module named 'statsmodels'",
     "output_type": "error",
     "traceback": [
      "\u001b[0;31m---------------------------------------------------------------------------\u001b[0m",
      "\u001b[0;31mModuleNotFoundError\u001b[0m                       Traceback (most recent call last)",
      "\u001b[0;32m<ipython-input-2-c96b080dc7ec>\u001b[0m in \u001b[0;36m<module>\u001b[0;34m\u001b[0m\n\u001b[1;32m     26\u001b[0m \u001b[0mpd\u001b[0m\u001b[0;34m.\u001b[0m\u001b[0moptions\u001b[0m\u001b[0;34m.\u001b[0m\u001b[0mdisplay\u001b[0m\u001b[0;34m.\u001b[0m\u001b[0mmax_columns\u001b[0m \u001b[0;34m=\u001b[0m \u001b[0;32mNone\u001b[0m\u001b[0;34m\u001b[0m\u001b[0;34m\u001b[0m\u001b[0m\n\u001b[1;32m     27\u001b[0m \u001b[0;34m\u001b[0m\u001b[0m\n\u001b[0;32m---> 28\u001b[0;31m \u001b[0;32mfrom\u001b[0m \u001b[0mstatsmodels\u001b[0m\u001b[0;34m.\u001b[0m\u001b[0mstats\u001b[0m\u001b[0;34m.\u001b[0m\u001b[0moutliers_influence\u001b[0m \u001b[0;32mimport\u001b[0m \u001b[0mvariance_inflation_factor\u001b[0m\u001b[0;34m\u001b[0m\u001b[0;34m\u001b[0m\u001b[0m\n\u001b[0m\u001b[1;32m     29\u001b[0m \u001b[0;32mfrom\u001b[0m \u001b[0mstatsmodels\u001b[0m\u001b[0;34m.\u001b[0m\u001b[0mtools\u001b[0m\u001b[0;34m.\u001b[0m\u001b[0mtools\u001b[0m \u001b[0;32mimport\u001b[0m \u001b[0madd_constant\u001b[0m\u001b[0;34m\u001b[0m\u001b[0;34m\u001b[0m\u001b[0m\n\u001b[1;32m     30\u001b[0m \u001b[0;32mfrom\u001b[0m \u001b[0mpatsy\u001b[0m \u001b[0;32mimport\u001b[0m \u001b[0mdmatrices\u001b[0m\u001b[0;34m\u001b[0m\u001b[0;34m\u001b[0m\u001b[0m\n",
      "\u001b[0;31mModuleNotFoundError\u001b[0m: No module named 'statsmodels'"
     ]
    }
   ],
   "source": [
    "import pandas as pd\n",
    "import re\n",
    "import numpy as np\n",
    "import matplotlib.pyplot as plt\n",
    "import seaborn as sns\n",
    "import scipy.stats as stats\n",
    "import os\n",
    "from matplotlib import cm\n",
    "\n",
    "from scipy.special import inv_boxcox\n",
    "\n",
    "from sklearn.model_selection import train_test_split\n",
    "from sklearn.linear_model import LinearRegression\n",
    "from sklearn.metrics import r2_score, mean_squared_error, mean_absolute_error\n",
    "from sklearn.preprocessing import OneHotEncoder, Normalizer, LabelEncoder\n",
    "from sklearn.linear_model import LogisticRegression\n",
    "from sklearn.metrics import classification_report\n",
    "from sklearn.metrics import roc_auc_score\n",
    "from sklearn.metrics import roc_curve\n",
    "from sklearn.metrics import plot_confusion_matrix\n",
    "\n",
    "\n",
    "import warnings\n",
    "warnings.filterwarnings('ignore')\n",
    "\n",
    "pd.options.display.max_columns = None\n",
    "\n",
    "from statsmodels.stats.outliers_influence import variance_inflation_factor\n",
    "from statsmodels.tools.tools import add_constant\n",
    "from patsy import dmatrices\n",
    "import statsmodels.api as sm\n",
    "\n",
    "from scipy.stats import chi2_contingency"
   ]
  },
  {
   "cell_type": "markdown",
   "id": "3ddd3fb6",
   "metadata": {},
   "source": [
    "## Loading data"
   ]
  },
  {
   "cell_type": "markdown",
   "id": "0774468f",
   "metadata": {},
   "source": [
    "Defining X (features) and y (target variable) and standardizing column headers before we move on..."
   ]
  },
  {
   "cell_type": "code",
   "execution_count": 3,
   "id": "eda4a3ae",
   "metadata": {},
   "outputs": [],
   "source": [
    "df = pd.read_csv(\"data/creditcardmarketing.csv\")"
   ]
  },
  {
   "cell_type": "code",
   "execution_count": null,
   "id": "6929ec6d",
   "metadata": {},
   "outputs": [],
   "source": [
    "def clean_headers(df):\n",
    "    cols = []\n",
    "    for c in df.columns:\n",
    "        c = c.lower().replace(\" \", \"_\").replace(\"#\", \"n\")\n",
    "        cols.append(c)\n",
    "    df.columns = cols\n"
   ]
  },
  {
   "cell_type": "code",
   "execution_count": null,
   "id": "6e85be19",
   "metadata": {},
   "outputs": [],
   "source": [
    "clean_headers(df)"
   ]
  },
  {
   "cell_type": "markdown",
   "id": "1899c3e4",
   "metadata": {},
   "source": [
    "## Exploring data"
   ]
  },
  {
   "cell_type": "code",
   "execution_count": null,
   "id": "387af0b0",
   "metadata": {},
   "outputs": [],
   "source": [
    "df.shape"
   ]
  },
  {
   "cell_type": "code",
   "execution_count": null,
   "id": "e4aadbd8",
   "metadata": {},
   "outputs": [],
   "source": [
    "pd.set_option('display.max_columns', None)\n",
    "df.head(3)"
   ]
  },
  {
   "cell_type": "markdown",
   "id": "cc3439bf",
   "metadata": {},
   "source": [
    "### Exploring Categoricals"
   ]
  },
  {
   "cell_type": "code",
   "execution_count": null,
   "id": "c0783ad6",
   "metadata": {},
   "outputs": [],
   "source": [
    "df_cat = df.select_dtypes('object')\n",
    "df_cat.head()"
   ]
  },
  {
   "cell_type": "markdown",
   "id": "f6eda212",
   "metadata": {},
   "source": [
    "#### Lets see the number of distinct values each column has and what % of the total values belong to each type."
   ]
  },
  {
   "cell_type": "code",
   "execution_count": null,
   "id": "460ee186",
   "metadata": {},
   "outputs": [],
   "source": [
    "def cat_exploration(df):\n",
    "    cat = df.select_dtypes('object')\n",
    "    for c in cat.columns:\n",
    "        sns.set_style(\"darkgrid\")\n",
    "        print(c)\n",
    "        print(cat[c].value_counts(normalize=True).mul(100).round(1))\n",
    "        fig, axes = plt.subplots(1, 1, figsize=(7, 4))\n",
    "        sns.countplot(cat[c], color = 'gray')\n",
    "        plt.show()"
   ]
  },
  {
   "cell_type": "code",
   "execution_count": null,
   "id": "ae6c3fb2",
   "metadata": {},
   "outputs": [],
   "source": [
    "cat_exploration(df)"
   ]
  },
  {
   "cell_type": "markdown",
   "id": "26d5acd8",
   "metadata": {},
   "source": [
    "Takeaways:\n",
    "- There isn't any categorical column with too many different value types which might require bucketing.\n",
    "- The largest imbalance occurs with our target variable: \"offer_accepted\""
   ]
  },
  {
   "cell_type": "markdown",
   "id": "9f040ce6",
   "metadata": {},
   "source": [
    "### Exploring numericals"
   ]
  },
  {
   "cell_type": "code",
   "execution_count": null,
   "id": "6e58a6c7",
   "metadata": {},
   "outputs": [],
   "source": [
    "def num_exploration(df):\n",
    "    num = df.select_dtypes('number')\n",
    "    for c in num.columns:\n",
    "        print(c)\n",
    "        fig, axes = plt.subplots(1, 2, figsize=(10, 3))\n",
    "        sns.set_style(\"dark\")\n",
    "        sns.distplot(num[c], ax=axes[0],  color = 'gray')\n",
    "        sns.boxplot(num[c], ax=axes[1],  color = 'gray')\n",
    "        plt.show()\n",
    "    sns.pairplot(num)\n",
    "    plt.show()\n",
    "    return num.describe().apply(lambda x: round(x,2))"
   ]
  },
  {
   "cell_type": "code",
   "execution_count": null,
   "id": "74e3dd2d",
   "metadata": {},
   "outputs": [],
   "source": [
    "num_exploration(df)"
   ]
  },
  {
   "cell_type": "markdown",
   "id": "39349e92",
   "metadata": {},
   "source": [
    "## Check correlations:"
   ]
  },
  {
   "cell_type": "markdown",
   "id": "01d895c0",
   "metadata": {},
   "source": [
    "We are checking the correlation of the data by also creating modifications of the original one by dropping certain columns that have a lot of correlation. We will later see how do they dirrerently affect the model."
   ]
  },
  {
   "cell_type": "markdown",
   "id": "13cf7943",
   "metadata": {},
   "source": [
    "We create the different dfs"
   ]
  },
  {
   "cell_type": "code",
   "execution_count": null,
   "id": "8f3f6b75",
   "metadata": {},
   "outputs": [],
   "source": [
    "df1 = df.drop('average_balance', axis=1)\n",
    "df2 = df.drop(['q1_balance','q2_balance','q3_balance','q4_balance'], axis=1)\n"
   ]
  },
  {
   "cell_type": "markdown",
   "id": "ae088da4",
   "metadata": {},
   "source": [
    "We define the three correlation matrixes"
   ]
  },
  {
   "cell_type": "code",
   "execution_count": null,
   "id": "358bf7b9",
   "metadata": {},
   "outputs": [],
   "source": [
    "corr_matrix=df.corr(method='pearson')\n",
    "corr_matrix1=df1.corr(method='pearson')\n",
    "corr_matrix2=df2.corr(method='pearson')"
   ]
  },
  {
   "cell_type": "markdown",
   "id": "911b570d",
   "metadata": {},
   "source": [
    "We plot them:"
   ]
  },
  {
   "cell_type": "code",
   "execution_count": null,
   "id": "f060df1f",
   "metadata": {},
   "outputs": [],
   "source": [
    "fig, (ax1, ax2, ax3) = plt.subplots(3,1, figsize=(10, 27))\n",
    "\n",
    "sns.heatmap(corr_matrix, ax=ax1, annot=True, cmap=\"YlGnBu\")\n",
    "sns.heatmap(corr_matrix1, ax=ax2, annot=True, cmap=\"YlGnBu\")\n",
    "sns.heatmap(corr_matrix2, ax=ax3, annot=True, cmap=\"YlGnBu\")\n",
    "\n",
    "ax1.set_title('corr_matrix: df')\n",
    "ax2.set_title('corr_matrix1: df1')\n",
    "ax3.set_title('corr_matrix2: df2')\n",
    "fig.tight_layout(pad=3.0)\n",
    "\n",
    "\n",
    "plt.show()"
   ]
  },
  {
   "cell_type": "markdown",
   "id": "34da0f68",
   "metadata": {},
   "source": [
    "### Checking null values:"
   ]
  },
  {
   "cell_type": "code",
   "execution_count": null,
   "id": "3db406f2",
   "metadata": {},
   "outputs": [],
   "source": [
    "def checking_nulls(df):\n",
    "    for c in df.columns:\n",
    "        null_count = df[c].isnull().sum()\n",
    "        if null_count > 0:\n",
    "            print (\"The column \", c, \" has \", null_count, \" null values\")\n",
    "    nulls = df[df.isna().any(axis=1)]\n",
    "    return nulls.head()"
   ]
  },
  {
   "cell_type": "code",
   "execution_count": null,
   "id": "d3989ccd",
   "metadata": {},
   "outputs": [],
   "source": [
    "checking_nulls(df)"
   ]
  },
  {
   "cell_type": "markdown",
   "id": "c313ba97",
   "metadata": {},
   "source": [
    "We will deal with null values later."
   ]
  },
  {
   "cell_type": "markdown",
   "id": "1adf03cb",
   "metadata": {},
   "source": [
    "## Cleaning data"
   ]
  },
  {
   "cell_type": "markdown",
   "id": "1a062961",
   "metadata": {},
   "source": [
    "### Dealing with irrelevant columns"
   ]
  },
  {
   "cell_type": "markdown",
   "id": "69d84b1e",
   "metadata": {},
   "source": [
    "customer_number is important for the predictions, but i won't use it as a feature (unique values)\n"
   ]
  },
  {
   "cell_type": "code",
   "execution_count": null,
   "id": "bba08b6a",
   "metadata": {},
   "outputs": [],
   "source": [
    "df = df.set_index('customer_number')"
   ]
  },
  {
   "cell_type": "markdown",
   "id": "ef9df878",
   "metadata": {},
   "source": [
    "### Dealing with null values"
   ]
  },
  {
   "cell_type": "markdown",
   "id": "8b189461",
   "metadata": {},
   "source": [
    "- We will replace null values with the mean as the data distribution for columns with null values is \"slightly\" normal (see previous graphs)"
   ]
  },
  {
   "cell_type": "code",
   "execution_count": null,
   "id": "ed813811",
   "metadata": {},
   "outputs": [],
   "source": [
    "def replace_nulls_mean(df):\n",
    "    for c in df.columns:\n",
    "        null_count = df[c].isnull().sum()\n",
    "        if null_count > 0:\n",
    "            df[c].fillna((df[c].mean()), inplace=True)\n",
    "    return df"
   ]
  },
  {
   "cell_type": "code",
   "execution_count": null,
   "id": "06a2bde5",
   "metadata": {},
   "outputs": [],
   "source": [
    "df = replace_nulls_mean(df)\n",
    "checking_nulls(df)"
   ]
  },
  {
   "cell_type": "markdown",
   "id": "f9400f06",
   "metadata": {},
   "source": [
    "## Multicollinearity analysis"
   ]
  },
  {
   "cell_type": "code",
   "execution_count": null,
   "id": "90dc8320",
   "metadata": {},
   "outputs": [],
   "source": [
    "features = \"+\".join(['reward', 'mailer_type', 'income_level',\n",
    "       'n_bank_accounts_open', 'overdraft_protection', 'credit_rating',\n",
    "       'n_credit_cards_held', 'n_homes_owned', 'household_size',\n",
    "       'own_your_home', 'average_balance', 'q1_balance', 'q2_balance',\n",
    "       'q3_balance', 'q4_balance'])\n",
    "\n",
    "y_enc, X_enc = dmatrices('offer_accepted ~' + features, df, return_type='dataframe')"
   ]
  },
  {
   "cell_type": "code",
   "execution_count": null,
   "id": "e265eca3",
   "metadata": {},
   "outputs": [],
   "source": [
    "vif = pd.DataFrame()\n",
    "vif[\"VIF Factor\"] = [variance_inflation_factor(X_enc.values, i) for i in range(X_enc.shape[1])]\n",
    "vif[\"features\"] = X_enc.columns\n",
    "\n",
    "vif.round(2)"
   ]
  },
  {
   "cell_type": "markdown",
   "id": "950ea91f",
   "metadata": {},
   "source": [
    "## Chi Square test"
   ]
  },
  {
   "cell_type": "code",
   "execution_count": null,
   "id": "05d8ff35",
   "metadata": {},
   "outputs": [],
   "source": [
    "def chi_square_test(df):\n",
    "    cat = df.select_dtypes('object')    \n",
    "    cols = cat.columns\n",
    "    for i in cols:\n",
    "        for j in cols:\n",
    "            if i != j:\n",
    "                data_crosstab = pd.crosstab(df[i], df[j], margins = False)\n",
    "                chi2_stat, p_val, dof, ex = stats.chi2_contingency(data_crosstab, correction=False)\n",
    "                print(\"The chi2_contingency for \", i, \" and \", j,\" is:\" )\n",
    "                print(\"===Chi2 Stat===\")\n",
    "                print(chi2_stat)\n",
    "                print(\"===Degrees of Freedom===\")\n",
    "                print(dof)\n",
    "                print(\"===P-Value===\")\n",
    "                print(float(p_val))\n",
    "                print (\"{:.60f}\".format(float(p_val)))\n",
    "                print(\"===Contingency Table===\")\n",
    "                print(ex)\n",
    "                print(\"\\n\")            "
   ]
  },
  {
   "cell_type": "code",
   "execution_count": null,
   "id": "b7622501",
   "metadata": {},
   "outputs": [],
   "source": [
    "chi_square_test(df)"
   ]
  },
  {
   "cell_type": "markdown",
   "id": "0f21995d",
   "metadata": {},
   "source": [
    "## Preparing data to fit the model"
   ]
  },
  {
   "cell_type": "code",
   "execution_count": null,
   "id": "f6159bfd",
   "metadata": {},
   "outputs": [],
   "source": [
    "X = df.drop('offer_accepted', axis=1)\n",
    "y = df['offer_accepted']"
   ]
  },
  {
   "cell_type": "markdown",
   "id": "d82e3035",
   "metadata": {},
   "source": [
    "Separating numericals from categoricals in X"
   ]
  },
  {
   "cell_type": "code",
   "execution_count": null,
   "id": "e2b87aab",
   "metadata": {},
   "outputs": [],
   "source": [
    "X_cat = X.select_dtypes('object')\n",
    "X_num = X.select_dtypes('number')"
   ]
  },
  {
   "cell_type": "markdown",
   "id": "97d43833",
   "metadata": {},
   "source": [
    "Encoding categoricals"
   ]
  },
  {
   "cell_type": "code",
   "execution_count": null,
   "id": "77781e25",
   "metadata": {},
   "outputs": [],
   "source": [
    "X_cat_enc = pd.get_dummies(X_cat, drop_first=True)\n",
    "y_enc = pd.get_dummies(y, drop_first=True)"
   ]
  },
  {
   "cell_type": "code",
   "execution_count": null,
   "id": "59476db8",
   "metadata": {},
   "outputs": [],
   "source": [
    "X_model = np.concatenate([X_num, X_cat_enc], axis=1)\n",
    "y_model = y_enc"
   ]
  },
  {
   "cell_type": "markdown",
   "id": "f4e53927",
   "metadata": {},
   "source": [
    "## Create Training and Test Sets and Apply Scaling"
   ]
  },
  {
   "cell_type": "code",
   "execution_count": null,
   "id": "143122bc",
   "metadata": {},
   "outputs": [],
   "source": [
    "X_train, X_test, y_train, y_test = train_test_split(X_model, y_model, random_state=0)"
   ]
  },
  {
   "cell_type": "markdown",
   "id": "ce1f8628",
   "metadata": {},
   "source": [
    "## Building models"
   ]
  },
  {
   "cell_type": "markdown",
   "id": "a3a6fe74",
   "metadata": {},
   "source": [
    "### Logistic regression"
   ]
  },
  {
   "cell_type": "code",
   "execution_count": null,
   "id": "f0e3782f",
   "metadata": {},
   "outputs": [],
   "source": [
    "logreg = LogisticRegression()\n",
    "logreg.fit(X_train, y_train)"
   ]
  },
  {
   "cell_type": "code",
   "execution_count": null,
   "id": "1b035fd1",
   "metadata": {},
   "outputs": [],
   "source": [
    "print('Accuracy of Logistic regression classifier on training set: {:.2f}'\n",
    "     .format(logreg.score(X_train, y_train)))\n",
    "print('Accuracy of Logistic regression classifier on test set: {:.2f}'\n",
    "     .format(logreg.score(X_test, y_test)))"
   ]
  },
  {
   "cell_type": "code",
   "execution_count": null,
   "id": "d56f0321",
   "metadata": {},
   "outputs": [],
   "source": [
    "score = logreg.score(X_test, y_test)\n",
    "score"
   ]
  },
  {
   "cell_type": "code",
   "execution_count": null,
   "id": "54936b61",
   "metadata": {},
   "outputs": [],
   "source": [
    "y_pred = logreg.predict(X_test)"
   ]
  },
  {
   "cell_type": "code",
   "execution_count": null,
   "id": "410c4f15",
   "metadata": {},
   "outputs": [],
   "source": [
    "from sklearn.metrics import confusion_matrix\n",
    "confusion_matrix = confusion_matrix(y_test, y_pred)\n",
    "print(confusion_matrix)"
   ]
  },
  {
   "cell_type": "code",
   "execution_count": null,
   "id": "b7eb328b",
   "metadata": {},
   "outputs": [],
   "source": [
    "plt.figure(figsize=(9,9))\n",
    "sns.heatmap(confusion_matrix, annot=True, fmt=\".3f\", linewidths=.5, square = True, cmap = 'Blues_r');\n",
    "plt.ylabel('Actual label');\n",
    "plt.xlabel('Predicted label');\n",
    "all_sample_title = 'Accuracy Score: {0}'.format(score)\n",
    "plt.title(all_sample_title, size = 15);"
   ]
  },
  {
   "cell_type": "code",
   "execution_count": null,
   "id": "feb39759",
   "metadata": {},
   "outputs": [],
   "source": [
    "print(classification_report(y_test, y_pred))"
   ]
  },
  {
   "cell_type": "code",
   "execution_count": null,
   "id": "97750280",
   "metadata": {},
   "outputs": [],
   "source": [
    "logit_roc_auc = roc_auc_score(y_test, logreg.predict(X_test))\n",
    "fpr, tpr, thresholds = roc_curve(y_test, logreg.predict_proba(X_test)[:,1])\n",
    "plt.figure()\n",
    "plt.plot(fpr, tpr, label='Logistic Regression (area = %0.2f)' % logit_roc_auc)\n",
    "plt.plot([0, 1], [0, 1],'r--')\n",
    "plt.xlim([0.0, 1.0])\n",
    "plt.ylim([0.0, 1.05])\n",
    "plt.xlabel('False Positive Rate')\n",
    "plt.ylabel('True Positive Rate')\n",
    "plt.title('Receiver operating characteristic')\n",
    "plt.legend(loc=\"lower right\")\n",
    "plt.savefig('Log_ROC')\n",
    "plt.show()"
   ]
  }
 ],
 "metadata": {
  "interpreter": {
   "hash": "f85c0ae1067a86ad6a96b144378883e79fd1516474b579ba33ee3a7084540002"
  },
  "kernelspec": {
   "display_name": "Python 3",
   "language": "python",
   "name": "python3"
  },
  "language_info": {
   "codemirror_mode": {
    "name": "ipython",
    "version": 3
   },
   "file_extension": ".py",
   "mimetype": "text/x-python",
   "name": "python",
   "nbconvert_exporter": "python",
   "pygments_lexer": "ipython3",
   "version": "3.9.5"
  }
 },
 "nbformat": 4,
 "nbformat_minor": 5
}
